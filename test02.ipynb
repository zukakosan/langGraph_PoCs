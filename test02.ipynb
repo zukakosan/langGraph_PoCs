{
 "cells": [
  {
   "cell_type": "code",
   "execution_count": 10,
   "id": "8e235213",
   "metadata": {},
   "outputs": [
    {
     "name": "stdout",
     "output_type": "stream",
     "text": [
      "The dotenv extension is already loaded. To reload it, use:\n",
      "  %reload_ext dotenv\n"
     ]
    }
   ],
   "source": [
    "%load_ext dotenv\n",
    "%dotenv"
   ]
  },
  {
   "cell_type": "code",
   "execution_count": null,
   "id": "9ec0b449",
   "metadata": {},
   "outputs": [],
   "source": [
    "from typing import Annotated\n",
    "from typing_extensions import TypedDict\n",
    "\n",
    "from langgraph.graph import StateGraph, START, END\n",
    "from langgraph.graph.message import add_messages\n",
    "\n",
    "from langchain_openai import ChatOpenAI\n",
    "from langchain_core.prompts import ChatPromptTemplate\n",
    "from langchain_core.output_parsers import StrOutputParser\n",
    "\n",
    "class State(TypedDict):\n",
    "    messages: Annotated[list[dict], add_messages]\n",
    "    requirement: Annotated[list[tuple[str, str]], add_messages]\n",
    "    response: str\n",
    "    evaluation: str\n",
    "    \n",
    "    \n",
    "graph_builder = StateGraph(State)"
   ]
  },
  {
   "cell_type": "code",
   "execution_count": 20,
   "id": "d4692767",
   "metadata": {},
   "outputs": [],
   "source": [
    "import os\n",
    "from langchain.chat_models import init_chat_model\n",
    "\n",
    "os.environ[\"AZURE_OPENAI_API_KEY\"] = os.getenv(\"AZURE_OPENAI_API_KEY\")\n",
    "os.environ[\"AZURE_OPENAI_ENDPOINT\"] = os.getenv(\"AZURE_OPENAI_ENDPOINT\")\n",
    "os.environ[\"OPENAI_API_VERSION\"] = os.getenv(\"API_VERSION\")\n",
    "\n",
    "llm = init_chat_model(\n",
    "    \"azure_openai:gpt-4o\",\n",
    "    azure_deployment=os.environ[\"DEPLOYMENT_NAME\"],\n",
    ")"
   ]
  },
  {
   "cell_type": "code",
   "execution_count": 33,
   "id": "a73cd582",
   "metadata": {},
   "outputs": [],
   "source": [
    "import sys\n",
    "def agent1(state:State): #英訳する関数（後でノードとして定義し利用する）\n",
    "    # query = state['query']\n",
    "    messages = state['messages']\n",
    "    \n",
    "    # Prompt template(書き方2)\n",
    "    prompt1 = ChatPromptTemplate([\n",
    "      ('system', 'あなたは、Azure のアーキテクトです、ユーザの実行したいことを実現するために必要なヒアリング項目を1つだけ質問してください。なお、過去の会話履歴はこちらです。{messages}'),\n",
    "      {\"role\": \"user\", \"content\": \"ユーザーの要件を深掘りするための質問をしてください。ただし、質問は一つだけにしてください。分量は短く、簡潔にしてください。\"},\n",
    "    ])\n",
    "\n",
    "    agent1 = (\n",
    "        prompt1\n",
    "        | llm\n",
    "        | StrOutputParser()\n",
    "    )\n",
    "    \n",
    "    response = agent1.invoke(messages)\n",
    "    print(response)\n",
    "    try:\n",
    "        user_input = input(\"User: \")\n",
    "    except:\n",
    "        sys.exit(1)\n",
    "    return {\"requirement\": [response, user_input], \"messages\": [{\"role\":\"assistant\",\"content\":response},{\"role\": \"user\", \"content\": user_input}]}"
   ]
  },
  {
   "cell_type": "code",
   "execution_count": 34,
   "id": "e80e34be",
   "metadata": {},
   "outputs": [],
   "source": [
    "def evaluator(state:State): #英訳する関数（後でノードとして定義し利用する）\n",
    "    messages = state['messages']\n",
    "    # Prompt template(書き方2)\n",
    "    prompt = ChatPromptTemplate([\n",
    "      ('system', 'あなたはAzureのアーキテクトです。Azure 環境構築時のヒアリング項目のリストが十分であれば yes、そうでなければ no と答えてください。'),\n",
    "      ('user', \"\"\"{messages}\"\"\")\n",
    "    ])\n",
    "\n",
    "    agent2 = (\n",
    "        prompt\n",
    "        | llm\n",
    "        | StrOutputParser()\n",
    "    )\n",
    "\n",
    "    evaluation = agent2.invoke(messages).lower()\n",
    "    print(evaluation)\n",
    "    return {\"evaluation\": evaluation}"
   ]
  },
  {
   "cell_type": "code",
   "execution_count": 35,
   "id": "caf69026",
   "metadata": {},
   "outputs": [],
   "source": [
    "def loop_or_end(state):\n",
    "    # quality_okがFalseなら\"再度意図判定(classify)\"へ、それ以外は\"end\"\n",
    "    return \"agent_1\" if not state[\"evaluation\"]==\"yes\" else \"end\""
   ]
  },
  {
   "cell_type": "code",
   "execution_count": 36,
   "id": "1440b688",
   "metadata": {},
   "outputs": [],
   "source": [
    "workflow = StateGraph(State)\n",
    "\n",
    "workflow.add_node(\"agent_1\", agent1)\n",
    "workflow.add_node(\"evaluator\", evaluator)\n",
    "\n",
    "\n",
    "workflow.add_edge(START, \"agent_1\")\n",
    "workflow.add_edge(\"agent_1\", \"evaluator\")\n",
    "workflow.add_conditional_edges(\"evaluator\", loop_or_end, {\n",
    "    \"agent_1\": \"agent_1\",\n",
    "    \"end\": END\n",
    "})\n",
    "\n",
    "graph_app = workflow.compile()"
   ]
  },
  {
   "cell_type": "code",
   "execution_count": 37,
   "id": "069492f6",
   "metadata": {},
   "outputs": [],
   "source": [
    "initial_state = State(query='Azure上にシステムを構築したい') #Agentに翻訳してほしい言葉を入れる"
   ]
  },
  {
   "cell_type": "code",
   "execution_count": 38,
   "id": "a87f4fe8",
   "metadata": {},
   "outputs": [
    {
     "name": "stdout",
     "output_type": "stream",
     "text": [
      "そのシステムはどのような目的で使用しますか？\n",
      "{'agent_1': {'requirement': ['そのシステムはどのような目的で使用しますか？', '簡単なアプリケーションのホスト'], 'messages': [{'role': 'assistant', 'content': 'そのシステムはどのような目的で使用しますか？'}, {'role': 'user', 'content': '簡単なアプリケーションのホスト'}]}}\n",
      "no\n",
      "{'evaluator': {'evaluation': 'no'}}\n",
      "そのアプリケーションはどの程度のトラフィックを想定していますか？\n",
      "{'agent_1': {'requirement': ['そのアプリケーションはどの程度のトラフィックを想定していますか？', '自分のみの検証用'], 'messages': [{'role': 'assistant', 'content': 'そのアプリケーションはどの程度のトラフィックを想定していますか？'}, {'role': 'user', 'content': '自分のみの検証用'}]}}\n",
      "no\n",
      "{'evaluator': {'evaluation': 'no'}}\n",
      "アプリケーションの使用言語とフレームワークは何ですか？\n",
      "{'agent_1': {'requirement': ['アプリケーションの使用言語とフレームワークは何ですか？', 'PythonでLangChain'], 'messages': [{'role': 'assistant', 'content': 'アプリケーションの使用言語とフレームワークは何ですか？'}, {'role': 'user', 'content': 'PythonでLangChain'}]}}\n",
      "no\n",
      "{'evaluator': {'evaluation': 'no'}}\n",
      "アプリケーションに必要な計算リソースはどの程度ですか？\n",
      "{'agent_1': {'requirement': ['アプリケーションに必要な計算リソースはどの程度ですか？', '動けばいい'], 'messages': [{'role': 'assistant', 'content': 'アプリケーションに必要な計算リソースはどの程度ですか？'}, {'role': 'user', 'content': '動けばいい'}]}}\n",
      "no\n",
      "{'evaluator': {'evaluation': 'no'}}\n",
      "データベースや外部サービスとの連携は必要ですか？\n",
      "{'agent_1': {'requirement': ['データベースや外部サービスとの連携は必要ですか？', 'いらない'], 'messages': [{'role': 'assistant', 'content': 'データベースや外部サービスとの連携は必要ですか？'}, {'role': 'user', 'content': 'いらない'}]}}\n",
      "no\n",
      "{'evaluator': {'evaluation': 'no'}}\n",
      "デプロイの予算や希望するコスト制限はありますか？\n",
      "{'agent_1': {'requirement': ['デプロイの予算や希望するコスト制限はありますか？', '可能な限り安く'], 'messages': [{'role': 'assistant', 'content': 'デプロイの予算や希望するコスト制限はありますか？'}, {'role': 'user', 'content': '可能な限り安く'}]}}\n",
      "no\n",
      "{'evaluator': {'evaluation': 'no'}}\n",
      "アプリケーションをどの地域でホストする必要がありますか？\n",
      "{'agent_1': {'requirement': ['アプリケーションをどの地域でホストする必要がありますか？', '東日本'], 'messages': [{'role': 'assistant', 'content': 'アプリケーションをどの地域でホストする必要がありますか？'}, {'role': 'user', 'content': '東日本'}]}}\n",
      "no\n",
      "{'evaluator': {'evaluation': 'no'}}\n",
      "アプリケーションの稼働時間に関する要件はありますか？\n",
      "{'agent_1': {'requirement': ['アプリケーションの稼働時間に関する要件はありますか？', 'なし'], 'messages': [{'role': 'assistant', 'content': 'アプリケーションの稼働時間に関する要件はありますか？'}, {'role': 'user', 'content': 'なし'}]}}\n",
      "no\n",
      "{'evaluator': {'evaluation': 'no'}}\n",
      "デプロイ後のスケーラビリティは必要ですか？\n",
      "{'agent_1': {'requirement': ['デプロイ後のスケーラビリティは必要ですか？', '不要'], 'messages': [{'role': 'assistant', 'content': 'デプロイ後のスケーラビリティは必要ですか？'}, {'role': 'user', 'content': '不要'}]}}\n",
      "no\n",
      "{'evaluator': {'evaluation': 'no'}}\n",
      "アプリケーションの具体的な利用期間や頻度はどの程度ですか？\n",
      "{'agent_1': {'requirement': ['アプリケーションの具体的な利用期間や頻度はどの程度ですか？', 'テスト用なので一時的'], 'messages': [{'role': 'assistant', 'content': 'アプリケーションの具体的な利用期間や頻度はどの程度ですか？'}, {'role': 'user', 'content': 'テスト用なので一時的'}]}}\n",
      "no\n",
      "{'evaluator': {'evaluation': 'no'}}\n",
      "アプリケーションのストレージの必要性や容量はありますか？\n",
      "{'agent_1': {'requirement': ['アプリケーションのストレージの必要性や容量はありますか？', '不要'], 'messages': [{'role': 'assistant', 'content': 'アプリケーションのストレージの必要性や容量はありますか？'}, {'role': 'user', 'content': '不要'}]}}\n",
      "yes\n",
      "{'evaluator': {'evaluation': 'yes'}}\n"
     ]
    }
   ],
   "source": [
    "# streamを利用する場合\n",
    "for chunk in graph_app.stream(initial_state):\n",
    "    print(chunk)\n",
    "\n",
    "# {'agent1': {'query': 'こんにちは', 'answer': 'Hello.'}}\n"
   ]
  },
  {
   "cell_type": "code",
   "execution_count": null,
   "id": "a8cb15df",
   "metadata": {},
   "outputs": [],
   "source": [
    "from IPython.display import Image, display\n",
    "\n",
    "try:\n",
    "    display(Image(graph.get_graph().draw_mermaid_png()))\n",
    "except Exception:\n",
    "    # This requires some extra dependencies and is optional\n",
    "    pass"
   ]
  },
  {
   "cell_type": "code",
   "execution_count": null,
   "id": "893d0bb9",
   "metadata": {},
   "outputs": [],
   "source": []
  }
 ],
 "metadata": {
  "kernelspec": {
   "display_name": "langgraph_env",
   "language": "python",
   "name": "python3"
  },
  "language_info": {
   "codemirror_mode": {
    "name": "ipython",
    "version": 3
   },
   "file_extension": ".py",
   "mimetype": "text/x-python",
   "name": "python",
   "nbconvert_exporter": "python",
   "pygments_lexer": "ipython3",
   "version": "3.11.11"
  }
 },
 "nbformat": 4,
 "nbformat_minor": 5
}

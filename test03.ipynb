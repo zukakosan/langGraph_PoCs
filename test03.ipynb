{
 "cells": [
  {
   "cell_type": "code",
   "execution_count": 37,
   "id": "83d56e2d",
   "metadata": {},
   "outputs": [],
   "source": [
    "import subprocess\n",
    "\n",
    "def validate_bicep(code: str) -> str:\n",
    "    \"\"\"Validate Bicep code syntax.\"\"\"\n",
    "    # Bicepコードの基本的な構文チェックを行う（例として簡単なチェックを実装）\n",
    "    print (\"Validating Bicep code...\")\n",
    "    with open(\"temp.bicep\", \"w\") as f:\n",
    "        f.write(code)\n",
    "    result = subprocess.run([\"bicep\", \"lint\", \"temp.bicep\"], text=True)\n",
    "    print(\"rc=\", result.returncode)\n",
    "    print(\"stdout:\", repr(result.stdout))\n",
    "    print(\"stderr:\", repr(result.stderr))\n",
    "    return result"
   ]
  },
  {
   "cell_type": "code",
   "execution_count": 38,
   "id": "66038e19",
   "metadata": {},
   "outputs": [],
   "source": [
    "# エラーを含んだ Bicepコードの例\n",
    "# 最後のカッコが抜けている\n",
    "code = \"\"\"\n",
    "@description('VNet 名')\n",
    "param vnetName string = 'vnet-main'\n",
    "\n",
    "@description('デプロイ先リージョン（既定は RG と同じ）')\n",
    "param location string = resourceGroup().location\n",
    "\n",
    "@description('VNet のアドレス空間（複数可）')\n",
    "param addressPrefixes array = [\n",
    "  '10.0.0.0/16'\n",
    "]\n",
    "\n",
    "@description('作成するサブネット一覧（名前とアドレスプレフィックス）')\n",
    "param subnets array = [\n",
    "  {\n",
    "    name: 'default'\n",
    "    addressPrefix: '10.0.0.0/24'\n",
    "  }\n",
    "]\n",
    "\n",
    "@description('任意のタグ')\n",
    "param tags object = {}\n",
    "\n",
    "resource vnet 'Microsoft.Network/virtualNetworks@2023-09-01' = {\n",
    "  name: vnetName\n",
    "  location: location\n",
    "  tags: tags\n",
    "  properties: {\n",
    "    addressSpace: {\n",
    "      addressPrefixes: addressPrefixes\n",
    "    }\n",
    "    subnets: [\n",
    "      for s in subnets: {\n",
    "        name: s.name\n",
    "        properties: {\n",
    "          addressPrefix: s.addressPrefix\n",
    "        }\n",
    "      }\n",
    "    ]\n",
    "  }\n",
    "\n",
    "\n",
    "output vnetId string = vnet.id\n",
    "\"\"\""
   ]
  },
  {
   "cell_type": "code",
   "execution_count": 39,
   "id": "4097ccdf",
   "metadata": {},
   "outputs": [
    {
     "name": "stdout",
     "output_type": "stream",
     "text": [
      "Validating Bicep code...\n",
      "rc= 1\n",
      "stdout: None\n",
      "stderr: None\n",
      "CompletedProcess(args=['bicep', 'lint', 'temp.bicep'], returncode=1)\n"
     ]
    }
   ],
   "source": [
    "res = validate_bicep(code)\n",
    "print(res)"
   ]
  },
  {
   "cell_type": "code",
   "execution_count": 41,
   "id": "0faf4655",
   "metadata": {},
   "outputs": [
    {
     "name": "stdout",
     "output_type": "stream",
     "text": [
      "Validating Bicep code...\n",
      "again\n"
     ]
    }
   ],
   "source": [
    "import subprocess\n",
    "\n",
    "def validate_bicep(code: str) -> str:\n",
    "    \"\"\"Validate Bicep code syntax.\"\"\"\n",
    "    # Bicepコードの基本的な構文チェックを行う（例として簡単なチェックを実装）\n",
    "    print (\"Validating Bicep code...\")\n",
    "    with open(\"temp.bicep\", \"w\") as f:\n",
    "        f.write(code)\n",
    "    result = subprocess.run([\"bicep\", \"lint\", \"temp.bicep\"], text=True)\n",
    "    # returncode が 0 以外の場合はエラーを含む\n",
    "    # lint の具体的なメッセージの解析をするならもうちょっと作りこまねばな気が\n",
    "    return result.returncode\n",
    "\n",
    "# エラーを含んだ Bicepコードの例\n",
    "# 最後のカッコが抜けている\n",
    "code = \"\"\"\n",
    "@description('VNet 名')\n",
    "param vnetName string = 'vnet-main'\n",
    "\n",
    "@description('デプロイ先リージョン（既定は RG と同じ）')\n",
    "param location string = resourceGroup().location\n",
    "\n",
    "@description('VNet のアドレス空間（複数可）')\n",
    "param addressPrefixes array = [\n",
    "  '10.0.0.0/16'\n",
    "]\n",
    "\n",
    "@description('作成するサブネット一覧（名前とアドレスプレフィックス）')\n",
    "param subnets array = [\n",
    "  {\n",
    "    name: 'default'\n",
    "    addressPrefix: '10.0.0.0/24'\n",
    "  }\n",
    "]\n",
    "\n",
    "@description('任意のタグ')\n",
    "param tags object = {}\n",
    "\n",
    "resource vnet 'Microsoft.Network/virtualNetworks@2023-09-01' = {\n",
    "  name: vnetName\n",
    "  location: location\n",
    "  tags: tags\n",
    "  properties: {\n",
    "    addressSpace: {\n",
    "      addressPrefixes: addressPrefixes\n",
    "    }\n",
    "    subnets: [\n",
    "      for s in subnets: {\n",
    "        name: s.name\n",
    "        properties: {\n",
    "          addressPrefix: s.addressPrefix\n",
    "        }\n",
    "      }\n",
    "    ]\n",
    "  }\n",
    "\n",
    "\n",
    "output vnetId string = vnet.id\n",
    "\"\"\"\n",
    "\n",
    "res = validate_bicep(code)\n",
    "# 処理のイメージ\n",
    "if res == 0:\n",
    "    print('done')\n",
    "else:\n",
    "    print('again')"
   ]
  },
  {
   "cell_type": "code",
   "execution_count": null,
   "id": "9112dd33",
   "metadata": {},
   "outputs": [],
   "source": []
  }
 ],
 "metadata": {
  "kernelspec": {
   "display_name": "langgraph_env",
   "language": "python",
   "name": "python3"
  },
  "language_info": {
   "codemirror_mode": {
    "name": "ipython",
    "version": 3
   },
   "file_extension": ".py",
   "mimetype": "text/x-python",
   "name": "python",
   "nbconvert_exporter": "python",
   "pygments_lexer": "ipython3",
   "version": "3.11.11"
  }
 },
 "nbformat": 4,
 "nbformat_minor": 5
}
